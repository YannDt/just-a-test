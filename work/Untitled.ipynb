{
 "cells": [
  {
   "cell_type": "code",
   "execution_count": 1,
   "id": "04e5fbb8-6470-454b-b8c1-84870a8c058a",
   "metadata": {
    "execution": {
     "iopub.execute_input": "2022-11-01T14:23:37.764946Z",
     "iopub.status.busy": "2022-11-01T14:23:37.764712Z",
     "iopub.status.idle": "2022-11-01T14:24:14.437294Z",
     "shell.execute_reply": "2022-11-01T14:24:14.436642Z",
     "shell.execute_reply.started": "2022-11-01T14:23:37.764919Z"
    },
    "tags": []
   },
   "outputs": [
    {
     "data": {
      "application/vnd.jupyter.widget-view+json": {
       "model_id": "21dc234f8a884ef480aee0b4829a8b49",
       "version_major": 2,
       "version_minor": 0
      },
      "text/plain": [
       "VBox()"
      ]
     },
     "metadata": {},
     "output_type": "display_data"
    },
    {
     "name": "stdout",
     "output_type": "stream",
     "text": [
      "Starting Spark application\n"
     ]
    },
    {
     "data": {
      "text/html": [
       "<table>\n",
       "<tr><th>ID</th><th>YARN Application ID</th><th>Kind</th><th>State</th><th>Spark UI</th><th>Driver log</th><th>User</th><th>Current session?</th></tr><tr><td>0</td><td>application_1667311984141_0001</td><td>pyspark</td><td>idle</td><td><a target=\"_blank\" href=\"http://ip-10-0-1-6.ec2.internal:20888/proxy/application_1667311984141_0001/\" class=\"emr-proxy-link\" emr-resource=\"j-332HO0R4T05XO\n",
       "\" application-id=\"application_1667311984141_0001\">Link</a></td><td><a target=\"_blank\" href=\"http://ip-10-0-1-8.ec2.internal:8042/node/containerlogs/container_1667311984141_0001_01_000001/livy\" >Link</a></td><td>None</td><td>✔</td></tr></table>"
      ],
      "text/plain": [
       "<IPython.core.display.HTML object>"
      ]
     },
     "metadata": {},
     "output_type": "display_data"
    },
    {
     "data": {
      "application/vnd.jupyter.widget-view+json": {
       "model_id": "",
       "version_major": 2,
       "version_minor": 0
      },
      "text/plain": [
       "FloatProgress(value=0.0, bar_style='info', description='Progress:', layout=Layout(height='25px', width='50%'),…"
      ]
     },
     "metadata": {},
     "output_type": "display_data"
    },
    {
     "name": "stdout",
     "output_type": "stream",
     "text": [
      "SparkSession available as 'spark'.\n"
     ]
    },
    {
     "data": {
      "application/vnd.jupyter.widget-view+json": {
       "model_id": "",
       "version_major": 2,
       "version_minor": 0
      },
      "text/plain": [
       "FloatProgress(value=0.0, bar_style='info', description='Progress:', layout=Layout(height='25px', width='50%'),…"
      ]
     },
     "metadata": {},
     "output_type": "display_data"
    }
   ],
   "source": [
    "import uuid\n",
    "from pyspark.sql.window import Window\n",
    "from pyspark.sql.types import *\n",
    "from pyspark.sql.functions import *\n",
    "from pyspark.sql import SparkSession\n",
    "spark = (SparkSession\n",
    "      .builder\n",
    "      .config(\"spark.sql.broadcastTimeout\", \"36000\")\n",
    "      .getOrCreate())"
   ]
  },
  {
   "cell_type": "code",
   "execution_count": 16,
   "id": "46665fa1-e772-4029-ad5e-b2ec23198a11",
   "metadata": {
    "execution": {
     "iopub.execute_input": "2022-11-01T15:42:12.775592Z",
     "iopub.status.busy": "2022-11-01T15:42:12.775348Z",
     "iopub.status.idle": "2022-11-01T15:42:12.835811Z",
     "shell.execute_reply": "2022-11-01T15:42:12.835236Z",
     "shell.execute_reply.started": "2022-11-01T15:42:12.775565Z"
    },
    "tags": []
   },
   "outputs": [
    {
     "data": {
      "application/vnd.jupyter.widget-view+json": {
       "model_id": "e5a3a2e65ec343f89bdf3b2e7116b047",
       "version_major": 2,
       "version_minor": 0
      },
      "text/plain": [
       "VBox()"
      ]
     },
     "metadata": {},
     "output_type": "display_data"
    },
    {
     "data": {
      "application/vnd.jupyter.widget-view+json": {
       "model_id": "",
       "version_major": 2,
       "version_minor": 0
      },
      "text/plain": [
       "FloatProgress(value=0.0, bar_style='info', description='Progress:', layout=Layout(height='25px', width='50%'),…"
      ]
     },
     "metadata": {},
     "output_type": "display_data"
    }
   ],
   "source": [
    "reviews_p = \"https://s3.amazonaws.com/amazon-reviews-pds/parquet/\""
   ]
  },
  {
   "cell_type": "code",
   "execution_count": 19,
   "id": "d4d1d7d6-ca5d-4435-9b49-f15cc9cb8bbb",
   "metadata": {
    "execution": {
     "iopub.execute_input": "2022-11-01T16:18:26.842294Z",
     "iopub.status.busy": "2022-11-01T16:18:26.842068Z",
     "iopub.status.idle": "2022-11-01T16:18:26.908642Z",
     "shell.execute_reply": "2022-11-01T16:18:26.908094Z",
     "shell.execute_reply.started": "2022-11-01T16:18:26.842269Z"
    },
    "tags": []
   },
   "outputs": [
    {
     "data": {
      "application/vnd.jupyter.widget-view+json": {
       "model_id": "3d7c549ccb0a47e9a5f60d24119c1b14",
       "version_major": 2,
       "version_minor": 0
      },
      "text/plain": [
       "VBox()"
      ]
     },
     "metadata": {},
     "output_type": "display_data"
    },
    {
     "data": {
      "application/vnd.jupyter.widget-view+json": {
       "model_id": "",
       "version_major": 2,
       "version_minor": 0
      },
      "text/plain": [
       "FloatProgress(value=0.0, bar_style='info', description='Progress:', layout=Layout(height='25px', width='50%'),…"
      ]
     },
     "metadata": {},
     "output_type": "display_data"
    },
    {
     "name": "stderr",
     "output_type": "stream",
     "text": [
      "An error was encountered:\n",
      "No module named 'botocore'\n",
      "Traceback (most recent call last):\n",
      "ModuleNotFoundError: No module named 'botocore'\n",
      "\n"
     ]
    }
   ],
   "source": [
    "import boto3\n",
    "from botocore.exceptions import ClientError\n",
    "\n",
    "\n",
    "def get_secret():\n",
    "\n",
    "    secret_name = \"emrgit-secret\"\n",
    "    region_name = \"us-east-1\"\n",
    "\n",
    "    # Create a Secrets Manager client\n",
    "    session = boto3.session.Session()\n",
    "    client = session.client(\n",
    "        service_name='secretsmanager',\n",
    "        region_name=region_name\n",
    "    )\n",
    "\n",
    "    try:\n",
    "        get_secret_value_response = client.get_secret_value(\n",
    "            SecretId=secret_name\n",
    "        )\n",
    "    except ClientError as e:\n",
    "        # For a list of exceptions thrown, see\n",
    "        # https://docs.aws.amazon.com/secretsmanager/latest/apireference/API_GetSecretValue.html\n",
    "        raise e\n",
    "\n",
    "    # Decrypts secret using the associated KMS key.\n",
    "    secret = get_secret_value_response['SecretString']\n",
    "\n",
    "    # Your code goes here."
   ]
  }
 ],
 "metadata": {
  "kernelspec": {
   "display_name": "PySpark",
   "language": "python",
   "name": "pysparkkernel"
  },
  "language_info": {
   "codemirror_mode": {
    "name": "python",
    "version": 3
   },
   "file_extension": ".py",
   "mimetype": "text/x-python",
   "name": "pyspark",
   "pygments_lexer": "python3"
  },
  "toc-showcode": false
 },
 "nbformat": 4,
 "nbformat_minor": 5
}
